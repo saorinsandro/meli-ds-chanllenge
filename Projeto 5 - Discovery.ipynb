{
 "cells": [
  {
   "cell_type": "markdown",
   "id": "b87527d4",
   "metadata": {},
   "source": [
    "# Projeto 5 - Discovery"
   ]
  },
  {
   "cell_type": "markdown",
   "id": "5acbbccf",
   "metadata": {},
   "source": [
    "## Autor - Sandro Saorin da Silva"
   ]
  },
  {
   "cell_type": "markdown",
   "id": "804759a1",
   "metadata": {},
   "source": [
    "## "
   ]
  },
  {
   "cell_type": "markdown",
   "id": "54a43f49",
   "metadata": {},
   "source": [
    "## Objetivo do Projeto\n",
    "\n",
    "O objetivo do projeto é auxiliar na definição de quais produtos devem ser mostrados e em quais posições eles são mostrando conforme o exemplo da imagem a seguir:\n",
    "\n",
    "<br>\n",
    "\n",
    "<img src = \"data:image/jpeg;base64,/9j/4AAQSkZJRgABAQAAAQABAAD/2wCEAAoHCBIVFBUSFBMZGRgZGxgbGhsbFRobHBoaHRkjHRgaGxocIC0kHB0rHx0bJTclKi4xNDU0GyQ6PzoyPi0zNDEBCwsLEA8QGhISHTEqISEzNDMzPDM1NTQzPjM0MzQzMTMxMTM0MzMzMzMzMzEzMzEzMzMzMTEzMzMzMzUzMTMzM//AABEIAK4BIQMBIgACEQEDEQH/xAAcAAACAgMBAQAAAAAAAAAAAAAAAwIEAQUHBgj/xABOEAABAwIDBAcCCwQHBAsAAAABAAIRAyEEEjEFQVFhBhMiMnGBkUKhBxQjM2JykrGywfAVUlPRJHN0gqKztJPS4/EWJTQ1Q2Nko6TC4f/EABkBAQEAAwEAAAAAAAAAAAAAAAABAgMEBf/EACURAQEAAgICAQIHAAAAAAAAAAABAhEDBBIxUSFBBTJhcYGhwf/aAAwDAQACEQMRAD8A6HitsCnUNNzOyPaz3nq3VIDS2NGkd5Rdt+nAfkflkhxOQFsML3WLu0QBcDylXauaXEUwTFjAvpYmfG3gsNL4vSBM6AtEXsfS6Cr+3qMgQ+7+rEsiTnDM2vdzEDiJFrhQodIKbvZcAXNDTLDIc2mWuIDrXqtECSNTG66Xvsep595kh0a/lOqbREi7A0ybWO7W3FBTq7XptFMlj5qNL2jLMC3fIJAu5ukxKrHpDTuerflBIJgADKyo90FxGb5tzYHjotyWi1hbS2nggsbwHoPBBrv2uwFwLXS3USy0vLGi7tSWm4kCJJAur2GriowPbMHjHGDpbXeJHCVMsHAb93HX1WQEAhCnS7wQRyngfQoyngfQq8hBRyngfQoyngfQrW7c251YqU6V6uR2UxLWOIOQu4gGJAXkjtva/wDFo/Z/4aw8p8r417/KeB9CjKeB9CvFbK27tBtZhxFSm6kXBjmsYcxLtCDkHdguN+6074XQllMpfRZpSyngfQrBB4e5X0ivq3xVQjKeB9CjKeB9CryEFHKeB9CjKeB9Cry0NfazxVdSGSxtLoJ3/uncg2GU8D6FGU8D6FUcPtR5qtpnKZ1gyR/hC3iCjlPA+hQQeB9FeScRp5oK+U8D6FGU8D6FW26DwXNHdOMVRqOw2JpVOuY1z3tpspvAZJLXAt1GQA8eSDoGU8D6FGU8D6FVdhYrEVGudWpOpi2UPDQ7fms0m2mt9VuEFHKeB9CjKeB9CryEFHKeB9CgtPA+hV5Qq6FBTQhCAQhCAQpVK7adN1R4s0EmBJgcBvKW7aVEGC6LTcHgHWMQbEGyMblJ7qSFN+NogBxcIMwYJ0MHQcVA7Qo2uYO/I7iBGkzJCMghA2lQgHNYkgdl2oid3MKeFxlOpZmsTdpFvMcwgghWzlGsIGU6QUFRTpd4KCnS7wQXFFxgEqSr412WnUdwY4+jSg1tbE0mUW1nMkEMJysBJc8i/wBp0kmwuTvVGpt7BzE7p+afeeZavM7N+EKkaNIGjUkMZo5p9keCKnT+h/Cq+lP/AH1NQe0hjgQGgHKToLW5K7smpmo0zyj7Jyn7lzvBfCHhjUDBSrS4OAkMAkNJuQ8kacF67oNtMYjBsqgRLqgLf3TnJid9iLqj0aRX1b4p6RX1b4oHoQhBrts7QFCi6sRmgCGgwXOJAa0cy4gea8zgqVRjqj69MOccpOVoLi4tGck2bOaRAOjWr0O29lfGG0m5y0MqsqG05shnKbjXjyVfEkS9s6Ek+e5ed+I53Hhyy+HRxeOtfe73/heCa11RrsuUgyAWwd4GltJ36FehWnwXeaL7joY8J0lbhbOhl5cGNauT81ZScRp5pyTiNPNdrAxui40yr1m18bUO5oHixrnMn7DQuxF0NngPyXLujbaOKbWa1jWVXYR7Kj+yHZ8xyvadSIeZJ0ygcFlMLZbPUY3OSyX3XVlT2jihSpvqGOy1zu0SG9lpNyAYFk7D1MzGuiMzQfUSpvaCCCAQbEG4IWLJzPBfCVWaScThmmnPepPOcCYnI89rXc6V6pvTXZ5YHiuLicuR4d5tLRHibIqdCNmudnOGEzMdZUDfsB2XyhZxnQnZ1RmT4u1nOnLHDnI185QM2H0pw2Le6nSzBzRmh2Q5myASCxzhvGsG/it7V0K8Dhvg3FCoKmFx1am605ocS2btluW0cQRN4XvquhQU0IQgEIQgd2shygE3gHT70F9S3Yaf73/4s0g6LEKeV/EeiBJfVv2G747ZHhu8FkvqTZg1N8+6bHTheE3K/iPRYyv4j0QLzVOzLG75ObTwtfcotdWi+WZHGCIEwZtefRPyv4j0RD+IQYq0yZh0SINpty4G6lSpBuixlfxHoiH8QgqqdLvBQU6XeCC4q2PE0qg+g78JVlV8b82/6jvuKDgmxcFg2MosrYuqytXY008tFj6dNr+zS60vaTLrWbAE/wB467D4upnq0q2QPpnK6KVKDeJuBaL/AMlb2T0kYyjRFbAU676bW9VUL3tytHaY17Wtd1gaTaYi2pudFTxLjUqVKgBe95eS0OEEzaCw9m8AHTyuFulVpsxIqG+XNIbAElhEwLWnRdq+C7D5NnUjJOZz3Gd3agDyAC4LsvDOqVg1xEmScrYFmkm0C9vVfQfwctjZuG+q78RQeoSK+rfFPSK+rfFA9CEIE1HwC4yYEwASbcALk8l47HbVbXc+lTa9vdJ7Tqb7tDhIs5oBcAfHSy9qSuMY3btb4xWeS3MXuaeyNA4NHuY338VzdnKTCz5jt6XUz58r46+mt7dN2LRI14gxmLrhtzJ1kzffE71uoXgOhHSCvWrmi/LlDHOs2DIc0azzK6Ar1frxz9GrtcGXDyXHL2yk4jTzTknEaea6HOVtAxRqHgx34SuS/B8yaz7A/Jlt/pRyPA+q6ztETQqD/wAt34SuR9AXxWPgF29bHfFyT9nHz3XNx/y7BhGRTY07mtHoIS9pV3spVH02F72tJawXLnRYQm0ZyCNYtuXE9uYjaWFxVSpWc+m5784ex7urfFmgRYgNgQZgWlcTsbjBfCLiaLh8ZaKtMWe5rMtRhm+Zo4eA0G+66lg8XTq021aTg9jwC1wMgg7wvAbBw+H2tSc6s1zMRSLWvq08rC8OktteTl1JHgdQNB8I/wAboVaLKDauHw2HZloupvcNR2y4g3EAAAnQaiSEHZ1CroVyPoD08xRrU8JipqtqEMp1GwXNfuzyQcsTMybWkLrlXQoKaEIQCEIQOAJYQDDrwYmOcJYGIzCTTyzezpi3OJ19yZSDosbKcP4j9eSCoBijBJpjiIcbSPylXWTAzRMCY0nfE7lGH8R+vJEP4j9eSByEmH8R+vJEP4j9eSDFXNeATItBiDxPu4rNFrgDmMoh/EfryRD+I/XkgrKdLvBQU6XeCC4oVGyCOIIU0IPmjZk9WwQZDQNHHQciAn1Z3gejB+J6ltegcLiKuGqtylj3ZZbOZhccj2zYgtjzkblVfiqcWeB5NH3MKDOzCOvbEd1+mX9w/uruvQJsbPw31T+Ny4BRxkVWlozEhzRcmS4ZRFhe/BfRvRzBmjhaNJwhzWCRwJuR6lBtEivq3xT0ivq3xQPQhCCBC4g/aFSnUrtaGkGrUJzMa72yN4kLuC8n0m6MHEuaKZbTIcXOdku4FpGUkQe8Qd+i083Fc9autO/o9vDr3Lzx3Lr+nm+gOJNTGlxDQepeIa0NEZ2nQb76+C6gtRsHZYosaC1mcNa1z2sDS8gDM4xuJEwtusuLC4Y6t21dzsY8/J54zU16ZSsRp5pyTiNPNbHKHtzNLeIj3LinRSuynjX0CTmGltQHAT43C7c3QLhWTqtt1GubpmABJHttLTblB81s4+W4bk+7XlxzKy33Hbtn1A6mxw3ib+KzjMHTqsNOqxr2nVrhIUNlj5Gn9Rp9RKuLW2PGdJthVW4enRwLMlOm5znNpktfm1a4b3XLib5icpuvE4LpZi8K/q8bOIwric5c3M9g3ug3sfTxXaVqdo7Bw1dzXVaYc4EGbiY3OjvDdB3WQUdidFcDRqfGqNKHPaC3Nm7AcL5Wuu0kG83Glrz6GroVkcFiroUFNCEIBCEIM1y7qnZCGugwTEA+dvVJotxORsubmvOYX1sDlsd+nDiZFsNlhEA8jofFVTg7GKLATIs4jsmJuBY6+gV2mgxuLtL6J4gU3j0Oc81lzcTudS1Mdl2kW33M+EhNo4NkSabWkyDBm1xrbcVM4KnYZBbT1mJ4SmzSuG4re6l9l+vhOnLz5KdJuJzDM6mW3mA4O5QZiR4X5JvxGlcZRePcZCdTYGgNaIAsANwTZplzgPK6wyoDosPpA6zwMGJHArLKYGgUVUU6XeCgp0u8EFuUStbj8VVa9gY0Fp7xIsLwJcHS3fo10mBaVXpbRquote0Nc4l4PZIb2WOcMsOdIlrRMneLHQL+N2fRrDLWo06gGgqMa4DwzArT1OhGy3a4GkPqsy/hhbPAYp7nVGvHdcQIbAjMQ0TmMugAmzdRa4WxQaDZ3RDZ1B4q0sKxrxdrjLi08WlxOU8wt9KyhBiUmvq3xT0ivq3xQOlEpNdzwOyATzMJXWVDo1trGXGxidAOJ5ILcpb6YdqPessdYSRPLSd8JiCAEWAUpWUIMSlV9PNOScRp5oJs0C1+M2Lhqr21alBjntENeR2gOGYXI5aJ2OrPbTzU2y6WACJ7zg02lu4k6ha/D7Tql1QFgJbRbUa1rTJcWyQ45jBJsGx4EwYDcsaAAAIAsANw3KcrSUdpVnOYAwOzNduDbgu7VnuhvZA3g5wc25begXFozgB15AMjW3uhAyUSsoQYlQq90pihV0KCmhCEAhCEDWVSBELPXnh71r8Rj6bJzEiCBpMkiQANTbfEc1H9p0ZjMZv7LtxjhxQbLrzw96OvPD3rX0doU3uyBxzXtBHHfpoCVaQO688Pejrzw96ShA7rzw96OvPD3pKEAp0u8FBTpd4IJ1m1CRlcALzLZO6I9/60WKdXNOcZbWjleOFxIudTyidai8mWvLbRoCN94Pl6JRoVogVrzqWNsIuOZlGNt+EaGHrCQ6rPdgho3AgiCLA252N1aw1NzWhrnl5Ey4gAm/AW5JVGhUDpdVzDeMoH52/XlcRYEIQihIr6t8U9Ir6t8UFLbWGp1GNa+o1gDiQXZYJLHNy9rkSbXgGCNRVoYem3rGl7C17w8Qw5QQ4ukvJMmWHfYi0aLa4mqwZcwmTa0xY35Wn1SBicO68tOUa5dASNLaEkaIm41OHwVJpy9aDkL83ybhDRkY5oiws0Am57U6iVssM2i4FlNxgODjGbgBEu5RYJjMThy62XMbTl1zEWmN5j3K41oAgCANwUNyqz8FMS42EeOsT6z4gFWmtAAA0CkhUk0yk4jTzTknEaeaKxVDi3skB1oJEjnbwlJNKtA7Ymb2gRI5G9j9pSxhIYS14aezDnaC4nUHUW81WbXqnR9LdaHc9LzJAPmPFAw0a+cO6wRaRlt3SCefaggTx1tDMLRqNJL6maQOzlAAsNDqdN/FIp4h8walLTdP7k2k+d5smZcTB7VMndLHcNTDuO7/mgvoVB1OvNntAt7PIT6md6z1VfNOcZZ0gaT4cP1vAXlCroVVpivIksibxmmJ574t+rWquhQU0IQgEIQgrvxYDi3K6REQJmRKiMWyZyumCJyGYFyJ3j9bxM6j6gJysBFo7UTxn9bjyUOtrX+TadY+U9N3kgb8YFrG4nT3IZWBMQR4qD6tSTFMEXuagHhu3oc+pupg/3gIHrffuEc0FhCTTfUPeYB4Ony08bozP/AHRp74vv0lA5Cw3RZQCnS7wUFOl3ggTjS0OBNVzTlmACbAkk6HdPoOCQagiW1nkZgCI0mTfNf/lu3biFlBputZlA619nC/ZkGDA+lYh1ptB0U8LVD3Ny1HnfBiHAQSbbhIB+sOK2yEGubgCJ+VeZEXMjQAnxOUefiZYzBkODs7rbuPGeM/z0lXUIBIr6t8U9Ir6t8UGK9drYJ/L8/uF1WfjqJ7JBM7shuJHEaXHorOIa8gZXZTPAGR5gpIp1wB22k75b9I8I9mB5IMuxtMZTftGB2XcYnSYmBPgh+0KYJBJtr2HHfG4XNjpwRlrz3mR9Uzzt6LLWV5EuZE3AadJ3X1QRftFgAdDiCYs02NrEeYU245hIaM0mPYcInSZCV1Ff+KPsj324R6c4GTRrz84AL2yg8IMxug2jfE7wE6GNa8wGuBibt93v105p2I081miHBoDjJ3kCB6LGI080GS0OEESLWSvijP3RoR5GJg7tAfG6sM0CkgrfFKeuQag6bwQQTxMgXVlCEAhCEAoVdCpqFXQoKaEIQCEIQIqUqhJLakTuyzujeeN7DeoGhVuOt1+hpqeN9wiyxiadMkzULXb4dGoAj0b+rIFOn/EJ1mas2NjN9L+9A003wJfe8mInyB/UJlNhGplVBSp+y92+zahO8AwL74HmpNFMSOs8czgTabX87ILaFVpupNMh7b/SHGfzCf1zInMI0sZ+5BNCw1wOiygFJhggqKnTFwgd145o68c1PIOA9EZBwHogh145o68c1T23jRh8PWxGUO6tjnwbTlExMWXP63wnVGFzX4Jocww/5YQ085YCPOFNjpnXjmjrxzXn+h3SB2NZUc+g2m5jmiA7NLXsD2mS0biF6PIOA9FRDrxzS6lQGOSfkHAeiVWYJbbegl144FHXjmp5BwHojIOA9EEOvHNHXjmvL1umNIYith20XnqnZXPyksLoBIGUHSYvFwU1nSyiWuIoVHkTZjWmYMR2i2DfhuKD0fXjmjrxzXmX9LWQSKWm4h+bzysMLb7C2nTxVFtdjHNBLmlr2w5pa4tcCPEehCC/145pdWqCIEp+QcB6JddgiwGqAbXEaFZ68c1JrBAsPRZLBwHogh145o68c15RvTGm4Z2UczHTkdPeaHFpLhl7JzNda+g3kgY/6ZN/gN+2f9xB6zrxzR145ry1Dpexzg3qWiSB3zb/AAJPRnpvSxmKdhxRyNdT6yjULp6xoIDgW5RlcJmJNp0Qev68c1F9UEEXTcg4D0UarBBsPRBVQhCAQhCCrWfTBOZgmwJygk6eZ3fZ5JbK1HQM5dzz137uO7krD31ATDJFouB4ySfHcoCtV/hf+4NEGBUpCIYLjdT3EA8PD9BRe+kL9XPGKektmTbgmmpUt8nuHtixi404yPJZc+puZw9oGbSd4i8CfOEC2PpkEinoY+bg6Ta3IegTaTWEWaAJ4Dd4JQrVd9Ib/wDxB5AW96a975s2365oGNaBoIWUIQCnS7wUFOl3gguIQhBWxmGbVY6k8S1wLXAEgwdYIIIPMLnHSboLhHPfUb1gJku+WcbgWJzSXSeJXT15DFvL6bnZjGesIteKrxwnQcV5f4nzZ8eGNwut1ZG52DsyhQZNEOAeGE5qj32DA1gBc4w0NAAAststV0ZrZ8Hhn8aVOfENAPvC2q9LG7kqMpFfVvinpFfVvisg9CEIOZbd2CaWIxNao2r1dYOeytRpmoabyNKrGAuyNi0AgjUgrneDLK1Kk+ptEMeXtD6b6bsjGOeBmDrCA0hxHI3XYOn+08XTbh8PhC1tTEvczOfZAYXEjyBvy3armO2uhXVNc+rXDGAXIyBocTAETYSQPNBsdqtpFtOhgcbVxFUul/UU3VGNZBiwmHl0RL2iA6SLT0H4Pdi18LhnCvZ9SoahZmDskta0NJFs3ZkxafVeB6Esr4KmzF0HtfSqPpMrA2Lg6r1bXNjTK5513GZ3HtaAScRp5pyTiNPNAxmgVfaToo1TwY8/4SrDNAq20/mav1H/AISg+dMYcrntDiAHOFjGhKoPr1N1R48Kjv5rvQxmyjIqVMIXZnzmdRnvGNeULSfFMG85cuz3iQMxo4YgiBJ7L5EmYtv0U8mWnGnYyqNKr/8AaP8A5r0PRbFOpVNk1m+zXrU3fVfVawj0qOPkupV9g7KI7OFwu7SnS0m+g4LwG1MPTYdmNpsa0fGcYYYAO7jWZJjWGtAHLRJlv6LlhZNu7qFXQqahV0KrBTQhCAQhCCu+lUzFzakA+yWzFhN/L3lBp1P4g3+xytv4/cirh2uJ7Tgd+V0T4xrr71H4qLfKP/2hvZBN9OodKgBkEdn6Ohve9/1KwKdS/wAoPsaIbhQPbfv9s7/zUfiLez2n9mYOczfdOoFtyBmR8QX3vcCLbvRNbpdIZhQ0gh77bi8kb7RwvpyCbTphs80E0IQgFOl3goKdLvBBcQhCDC45iumDqFJ9I0s56ysWuz5YzVHOEjKZuV2NfOnSFtp+k/8AEVq5OvhzTWc3Jdm9OzfB28u2ZhCdckHycR+S9MvLfBr/AN2YX6r/APMevUraBIr6t8U9Ir6t8UD0IQg8j0w/7Xsr+vq/6d6858I9J1TCVqVMZnuNOGjfFRp323H0Xpelw/peyv7RU/0715z4QXup4epiKbg17MkSey4ZxY87uiCLlBrejLSNi0GkQfjFAEcD+0Rb3LsK5H0aJOycKXGS/FYYk8S7aDXH3ldcQCTiNPNOScRp5oGM0Cq7W+Yrf1dT8JVpmgVXa3zFb+rqfhKD58xr+2/6z/xFUnuHJOxL5c4/Sd96qOcqFVGt4DzC2mw2Zv2c3jiKjd2rq1MNF+a1DnLbdHb1Nkj/ANYD/wDIYg+k1CroVNQq6FQU0IQgEIQgW+gwuzFoJtfw0UThaf7o96TXx4bmJaYBDbG8lodpwvxSv2s3K52V1gTFr9oD8x71d35TUbBjAAABAFgsrXVNrtaG9l0HPwnsx9+b3JuC2g2rMNIjjHEj8lFXEIQgEIQgFOl3goKdLvBBcQhCAXzrt7ujxd95X0UvnfbogRwc78RWWKV174Mz/wBV4Xwqf5r16peV+DVsbMwvMVD61XleqWNUJFfVvinpFfVvigehCEHlelg/pWy/7RU/01RarptUotwdfrSwaZXPYXtD5HVlzQ0y0Oy7iOIK3PSln9I2a7hinD1w1X+S0PwgOa3CVnFjXiaUtc2R86I0IOvO+iCpg3UzgcMaUZHYzDZIaWjKccC2GnuiN25dPXMOj9LNgMAwQP6Th3C0AZaxqEASYENIHkunoBJxGnmnJOI080DGaBVdrfMVv6up+Eq0zQJeJpZ2PYfaa4eohB80Vn/efvVV7k2oCCQYsSDHIkW9FXcVRB5W36M3rbK/tY/z2LTOK9R8H+D6yvgAT3aznD+6c/8A9Eg+h1CroVNQq6FQU0IQgEIQg//Z\" width = 600>\n",
    "\n",
    "<br>\n",
    "\n",
    "PAra isso, deve ser levado em consideração tanto o conhecimento sobre produtos que performam bem em cada uma das opções e recomendação de produtos que sejam bons candidatos a serem expostos como ofertas."
   ]
  },
  {
   "cell_type": "markdown",
   "id": "052f5400",
   "metadata": {},
   "source": [
    "## "
   ]
  },
  {
   "cell_type": "markdown",
   "id": "0e70bca9",
   "metadata": {},
   "source": [
    "## Questões\n",
    "\n",
    "<br>\n",
    "\n",
    "__1)__ Que tipo de enfoque utilizaria para definir a porcentagem de __explorar__ (recomendação de candidatos para bons produtos) e __explotar__(produtos que funcionam bem em determinadas posições)?\n",
    "\n",
    "Uma forma de avaliar quantos % de produtos colocar com cada uma das funcionalidade seria utilizando de um teste A/B, onde existiria um grupo controle (apenas com explorar e/ou explotar para servir como referência) e um grupo onde seriam testados as ofertas em diferentes posições.\n",
    "\n",
    "Dessa forma, consegue-se levantar como um mesmo produto performou nas duas situações de avaliação.\n",
    "\n",
    "<br>\n",
    "\n",
    "__2)__ Que métrica utilizaria para acompanhar o experimento?\n",
    "\n",
    "<br>\n",
    "\n",
    "A partir do _tracking_ das telas da página é póssivel levantar a taxa de cliques em um mesmo produto para os diferentes grupos. Com esse parâmetro pode-se construir uma métrica que avalie o quão mais eficiente o grupo A foi em relação ao B.\n",
    "\n",
    "<br>\n",
    "\n",
    "__3)__ Como aproveitaria a interação e _feedback_ dos usuários?\n",
    "\n",
    "<br>\n",
    "\n",
    "Certamente com a interação e feedback dos usuários, serviria de insumo para alimentar e melhorar os modelos de recomendação para que os produtos indicados desta forma sejam mais acertivos na sugestão ao usuário , de acordo com asinformações obtidas pro ele.\n",
    "\n",
    "<br>"
   ]
  },
  {
   "cell_type": "markdown",
   "id": "d8e4e78c",
   "metadata": {},
   "source": [
    "## "
   ]
  }
 ],
 "metadata": {
  "kernelspec": {
   "display_name": "Python 3 (ipykernel)",
   "language": "python",
   "name": "python3"
  },
  "language_info": {
   "codemirror_mode": {
    "name": "ipython",
    "version": 3
   },
   "file_extension": ".py",
   "mimetype": "text/x-python",
   "name": "python",
   "nbconvert_exporter": "python",
   "pygments_lexer": "ipython3",
   "version": "3.9.12"
  }
 },
 "nbformat": 4,
 "nbformat_minor": 5
}
